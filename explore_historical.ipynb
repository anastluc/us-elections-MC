{
 "cells": [
  {
   "cell_type": "code",
   "execution_count": 3,
   "metadata": {},
   "outputs": [],
   "source": [
    "import pandas as pd\n",
    "import math\n",
    "import random\n",
    "from collections import Counter\n",
    "import json\n",
    "import plotly.graph_objects as go\n",
    "from datetime import datetime\n",
    "import requests\n",
    "import os \n",
    "import pickle"
   ]
  },
  {
   "cell_type": "code",
   "execution_count": 2,
   "metadata": {},
   "outputs": [],
   "source": [
    "def getLatestPollOfStateAndCandidate(df, state, candidateA, candidateB, verbose =True ):\n",
    "    # Filter the dataframe for the given state and candidate\n",
    "    state_candidate_polls = df[(df['state'] == state) & ((df['answer'] == candidateA) | (df['answer'] == candidateB)  )]\n",
    "    \n",
    "    if state_candidate_polls.empty:\n",
    "        if verbose:\n",
    "            print(f\"No polls found for {candidateA} or {candidateB} in {state}\")\n",
    "        return None\n",
    "    \n",
    "    # Sort by end_date in descending order and get the first row\n",
    "    latest_poll = state_candidate_polls.sort_values('end_date', ascending=False).iloc[0]\n",
    "    \n",
    "    return {\n",
    "        'state': state,\n",
    "        'candidate': candidateA,\n",
    "        'percentage': latest_poll['pct'],\n",
    "        'poll_date': latest_poll['end_date']\n",
    "    }"
   ]
  },
  {
   "cell_type": "code",
   "execution_count": 4,
   "metadata": {},
   "outputs": [
    {
     "data": {
      "text/html": [
       "<div>\n",
       "<style scoped>\n",
       "    .dataframe tbody tr th:only-of-type {\n",
       "        vertical-align: middle;\n",
       "    }\n",
       "\n",
       "    .dataframe tbody tr th {\n",
       "        vertical-align: top;\n",
       "    }\n",
       "\n",
       "    .dataframe thead th {\n",
       "        text-align: right;\n",
       "    }\n",
       "</style>\n",
       "<table border=\"1\" class=\"dataframe\">\n",
       "  <thead>\n",
       "    <tr style=\"text-align: right;\">\n",
       "      <th></th>\n",
       "      <th>poll_id</th>\n",
       "      <th>pollster_id</th>\n",
       "      <th>pollster</th>\n",
       "      <th>sponsor_ids</th>\n",
       "      <th>sponsors</th>\n",
       "      <th>display_name</th>\n",
       "      <th>pollster_rating_id</th>\n",
       "      <th>pollster_rating_name</th>\n",
       "      <th>numeric_grade</th>\n",
       "      <th>pollscore</th>\n",
       "      <th>...</th>\n",
       "      <th>stage</th>\n",
       "      <th>nationwide_batch</th>\n",
       "      <th>ranked_choice_reallocated</th>\n",
       "      <th>ranked_choice_round</th>\n",
       "      <th>hypothetical</th>\n",
       "      <th>party</th>\n",
       "      <th>answer</th>\n",
       "      <th>candidate_id</th>\n",
       "      <th>candidate_name</th>\n",
       "      <th>pct</th>\n",
       "    </tr>\n",
       "  </thead>\n",
       "  <tbody>\n",
       "    <tr>\n",
       "      <th>0</th>\n",
       "      <td>88739</td>\n",
       "      <td>770</td>\n",
       "      <td>TIPP</td>\n",
       "      <td>NaN</td>\n",
       "      <td>NaN</td>\n",
       "      <td>TIPP Insights</td>\n",
       "      <td>144</td>\n",
       "      <td>TIPP Insights</td>\n",
       "      <td>1.8</td>\n",
       "      <td>-0.4</td>\n",
       "      <td>...</td>\n",
       "      <td>general</td>\n",
       "      <td>False</td>\n",
       "      <td>False</td>\n",
       "      <td>NaN</td>\n",
       "      <td>False</td>\n",
       "      <td>DEM</td>\n",
       "      <td>Harris</td>\n",
       "      <td>16661</td>\n",
       "      <td>Kamala Harris</td>\n",
       "      <td>49.0</td>\n",
       "    </tr>\n",
       "    <tr>\n",
       "      <th>1</th>\n",
       "      <td>88739</td>\n",
       "      <td>770</td>\n",
       "      <td>TIPP</td>\n",
       "      <td>NaN</td>\n",
       "      <td>NaN</td>\n",
       "      <td>TIPP Insights</td>\n",
       "      <td>144</td>\n",
       "      <td>TIPP Insights</td>\n",
       "      <td>1.8</td>\n",
       "      <td>-0.4</td>\n",
       "      <td>...</td>\n",
       "      <td>general</td>\n",
       "      <td>False</td>\n",
       "      <td>False</td>\n",
       "      <td>NaN</td>\n",
       "      <td>False</td>\n",
       "      <td>REP</td>\n",
       "      <td>Trump</td>\n",
       "      <td>16651</td>\n",
       "      <td>Donald Trump</td>\n",
       "      <td>46.0</td>\n",
       "    </tr>\n",
       "    <tr>\n",
       "      <th>2</th>\n",
       "      <td>88762</td>\n",
       "      <td>568</td>\n",
       "      <td>YouGov</td>\n",
       "      <td>133</td>\n",
       "      <td>CBS News</td>\n",
       "      <td>YouGov</td>\n",
       "      <td>391</td>\n",
       "      <td>YouGov</td>\n",
       "      <td>3.0</td>\n",
       "      <td>-1.1</td>\n",
       "      <td>...</td>\n",
       "      <td>general</td>\n",
       "      <td>False</td>\n",
       "      <td>False</td>\n",
       "      <td>NaN</td>\n",
       "      <td>False</td>\n",
       "      <td>DEM</td>\n",
       "      <td>Harris</td>\n",
       "      <td>16661</td>\n",
       "      <td>Kamala Harris</td>\n",
       "      <td>48.0</td>\n",
       "    </tr>\n",
       "    <tr>\n",
       "      <th>3</th>\n",
       "      <td>88762</td>\n",
       "      <td>568</td>\n",
       "      <td>YouGov</td>\n",
       "      <td>133</td>\n",
       "      <td>CBS News</td>\n",
       "      <td>YouGov</td>\n",
       "      <td>391</td>\n",
       "      <td>YouGov</td>\n",
       "      <td>3.0</td>\n",
       "      <td>-1.1</td>\n",
       "      <td>...</td>\n",
       "      <td>general</td>\n",
       "      <td>False</td>\n",
       "      <td>False</td>\n",
       "      <td>NaN</td>\n",
       "      <td>False</td>\n",
       "      <td>REP</td>\n",
       "      <td>Trump</td>\n",
       "      <td>16651</td>\n",
       "      <td>Donald Trump</td>\n",
       "      <td>51.0</td>\n",
       "    </tr>\n",
       "    <tr>\n",
       "      <th>4</th>\n",
       "      <td>88756</td>\n",
       "      <td>1554</td>\n",
       "      <td>RMG Research</td>\n",
       "      <td>NaN</td>\n",
       "      <td>NaN</td>\n",
       "      <td>RMG Research</td>\n",
       "      <td>555</td>\n",
       "      <td>RMG Research</td>\n",
       "      <td>2.3</td>\n",
       "      <td>-0.4</td>\n",
       "      <td>...</td>\n",
       "      <td>general</td>\n",
       "      <td>False</td>\n",
       "      <td>False</td>\n",
       "      <td>NaN</td>\n",
       "      <td>False</td>\n",
       "      <td>DEM</td>\n",
       "      <td>Harris</td>\n",
       "      <td>16661</td>\n",
       "      <td>Kamala Harris</td>\n",
       "      <td>49.0</td>\n",
       "    </tr>\n",
       "  </tbody>\n",
       "</table>\n",
       "<p>5 rows × 52 columns</p>\n",
       "</div>"
      ],
      "text/plain": [
       "   poll_id  pollster_id      pollster sponsor_ids  sponsors   display_name  \\\n",
       "0    88739          770          TIPP         NaN       NaN  TIPP Insights   \n",
       "1    88739          770          TIPP         NaN       NaN  TIPP Insights   \n",
       "2    88762          568        YouGov         133  CBS News         YouGov   \n",
       "3    88762          568        YouGov         133  CBS News         YouGov   \n",
       "4    88756         1554  RMG Research         NaN       NaN   RMG Research   \n",
       "\n",
       "   pollster_rating_id pollster_rating_name  numeric_grade  pollscore  ...  \\\n",
       "0                 144        TIPP Insights            1.8       -0.4  ...   \n",
       "1                 144        TIPP Insights            1.8       -0.4  ...   \n",
       "2                 391               YouGov            3.0       -1.1  ...   \n",
       "3                 391               YouGov            3.0       -1.1  ...   \n",
       "4                 555         RMG Research            2.3       -0.4  ...   \n",
       "\n",
       "     stage  nationwide_batch ranked_choice_reallocated ranked_choice_round  \\\n",
       "0  general             False                     False                 NaN   \n",
       "1  general             False                     False                 NaN   \n",
       "2  general             False                     False                 NaN   \n",
       "3  general             False                     False                 NaN   \n",
       "4  general             False                     False                 NaN   \n",
       "\n",
       "  hypothetical  party  answer candidate_id  candidate_name   pct  \n",
       "0        False    DEM  Harris        16661   Kamala Harris  49.0  \n",
       "1        False    REP   Trump        16651    Donald Trump  46.0  \n",
       "2        False    DEM  Harris        16661   Kamala Harris  48.0  \n",
       "3        False    REP   Trump        16651    Donald Trump  51.0  \n",
       "4        False    DEM  Harris        16661   Kamala Harris  49.0  \n",
       "\n",
       "[5 rows x 52 columns]"
      ]
     },
     "execution_count": 4,
     "metadata": {},
     "output_type": "execute_result"
    }
   ],
   "source": [
    "current_date = datetime.now()\n",
    "today_formatted_date = current_date.strftime(\"%d_%m_%Y\")\n",
    "filename = f\"data/president_polls_{today_formatted_date}.csv\"\n",
    "\n",
    "df = pd.read_csv(filename)\n",
    "df.head()"
   ]
  },
  {
   "cell_type": "code",
   "execution_count": 6,
   "metadata": {},
   "outputs": [
    {
     "data": {
      "text/plain": [
       "Index(['poll_id', 'pollster_id', 'pollster', 'sponsor_ids', 'sponsors',\n",
       "       'display_name', 'pollster_rating_id', 'pollster_rating_name',\n",
       "       'numeric_grade', 'pollscore', 'methodology', 'transparency_score',\n",
       "       'state', 'start_date', 'end_date', 'sponsor_candidate_id',\n",
       "       'sponsor_candidate', 'sponsor_candidate_party', 'endorsed_candidate_id',\n",
       "       'endorsed_candidate_name', 'endorsed_candidate_party', 'question_id',\n",
       "       'sample_size', 'population', 'subpopulation', 'population_full',\n",
       "       'tracking', 'created_at', 'notes', 'url', 'url_article', 'url_topline',\n",
       "       'url_crosstab', 'source', 'internal', 'partisan', 'race_id', 'cycle',\n",
       "       'office_type', 'seat_number', 'seat_name', 'election_date', 'stage',\n",
       "       'nationwide_batch', 'ranked_choice_reallocated', 'ranked_choice_round',\n",
       "       'hypothetical', 'party', 'answer', 'candidate_id', 'candidate_name',\n",
       "       'pct'],\n",
       "      dtype='object')"
      ]
     },
     "execution_count": 6,
     "metadata": {},
     "output_type": "execute_result"
    }
   ],
   "source": [
    "df.columns"
   ]
  },
  {
   "cell_type": "code",
   "execution_count": 13,
   "metadata": {},
   "outputs": [
    {
     "data": {
      "text/plain": [
       "poll_id                                                                  88762\n",
       "pollster_id                                                                568\n",
       "pollster                                                                YouGov\n",
       "sponsor_ids                                                                133\n",
       "sponsors                                                              CBS News\n",
       "display_name                                                            YouGov\n",
       "pollster_rating_id                                                         391\n",
       "pollster_rating_name                                                    YouGov\n",
       "numeric_grade                                                              3.0\n",
       "pollscore                                                                 -1.1\n",
       "methodology                                                       Online Panel\n",
       "transparency_score                                                         9.0\n",
       "state                                                                  Arizona\n",
       "start_date                                                            10/11/24\n",
       "end_date                                                              10/16/24\n",
       "sponsor_candidate_id                                                       NaN\n",
       "sponsor_candidate                                                          NaN\n",
       "sponsor_candidate_party                                                    NaN\n",
       "endorsed_candidate_id                                                      NaN\n",
       "endorsed_candidate_name                                                    NaN\n",
       "endorsed_candidate_party                                                   NaN\n",
       "question_id                                                             213103\n",
       "sample_size                                                             1435.0\n",
       "population                                                                  lv\n",
       "subpopulation                                                              NaN\n",
       "population_full                                                             lv\n",
       "tracking                                                                   NaN\n",
       "created_at                                                      10/17/24 19:50\n",
       "notes                                                                      NaN\n",
       "url                          https://www.cbsnews.com/news/trump-harris-poll...\n",
       "url_article                  https://www.cbsnews.com/news/trump-harris-poll...\n",
       "url_topline                                                                NaN\n",
       "url_crosstab                 https://www.scribd.com/document/781235796/Cbsn...\n",
       "source                                                                     NaN\n",
       "internal                                                                   NaN\n",
       "partisan                                                                   NaN\n",
       "race_id                                                                   8759\n",
       "cycle                                                                     2024\n",
       "office_type                                                     U.S. President\n",
       "seat_number                                                                  0\n",
       "seat_name                                                                  NaN\n",
       "election_date                                                          11/5/24\n",
       "stage                                                                  general\n",
       "nationwide_batch                                                         False\n",
       "ranked_choice_reallocated                                                False\n",
       "ranked_choice_round                                                        NaN\n",
       "hypothetical                                                             False\n",
       "party                                                                      DEM\n",
       "answer                                                                  Harris\n",
       "candidate_id                                                             16661\n",
       "candidate_name                                                   Kamala Harris\n",
       "pct                                                                       48.0\n",
       "Name: 2, dtype: object"
      ]
     },
     "execution_count": 13,
     "metadata": {},
     "output_type": "execute_result"
    }
   ],
   "source": [
    "df.iloc[2]"
   ]
  },
  {
   "cell_type": "code",
   "execution_count": 21,
   "metadata": {},
   "outputs": [],
   "source": [
    "from datetime import datetime, date\n",
    "\n",
    "def getLatestPollOfStateAndCandidateAtTime(df, state, candidateA, candidateB, date_before=None, verbose=True):\n",
    "    # Set date_before to today if not provided\n",
    "    if date_before is None:\n",
    "        date_before = date.today()\n",
    "    elif isinstance(date_before, str):\n",
    "        # Try to parse date_before flexibly\n",
    "        date_before = pd.to_datetime(date_before, dayfirst=False, yearfirst=False).date()\n",
    "    \n",
    "    # Convert end_date to datetime, letting pandas infer the format\n",
    "    df['end_date'] = pd.to_datetime(df['end_date'], dayfirst=False, yearfirst=False)\n",
    "    \n",
    "    # Filter the dataframe for the given state, candidates, and date\n",
    "    state_candidate_polls = df[\n",
    "        (df['state'] == state) & \n",
    "        ((df['answer'] == candidateA) | (df['answer'] == candidateB)) &\n",
    "        (df['end_date'].dt.date <= date_before)\n",
    "    ]\n",
    "    \n",
    "    if state_candidate_polls.empty:\n",
    "        if verbose:\n",
    "            print(f\"No polls found for {candidateA} or {candidateB} in {state} before {date_before}\")\n",
    "        return None\n",
    "    \n",
    "    # Sort by end_date in descending order and get the first row\n",
    "    latest_poll = state_candidate_polls.sort_values('end_date', ascending=False).iloc[0]\n",
    "    \n",
    "    return {\n",
    "        'state': state,\n",
    "        'candidate': candidateA,\n",
    "        'percentage': latest_poll['pct'],\n",
    "        'poll_date': latest_poll['end_date'].strftime('%m/%d/%Y')\n",
    "    }"
   ]
  },
  {
   "cell_type": "code",
   "execution_count": 22,
   "metadata": {},
   "outputs": [
    {
     "name": "stderr",
     "output_type": "stream",
     "text": [
      "/var/folders/vx/k75z1cn92z3b65c5wv5ss_jjgp8wqw/T/ipykernel_36980/3767182339.py:12: UserWarning: Could not infer format, so each element will be parsed individually, falling back to `dateutil`. To ensure parsing is consistent and as-expected, please specify a format.\n",
      "  df['end_date'] = pd.to_datetime(df['end_date'], dayfirst=False, yearfirst=False)\n"
     ]
    },
    {
     "data": {
      "text/plain": [
       "{'state': 'Arizona',\n",
       " 'candidate': 'Trump',\n",
       " 'percentage': np.float64(51.0),\n",
       " 'poll_date': '10/16/2024'}"
      ]
     },
     "execution_count": 22,
     "metadata": {},
     "output_type": "execute_result"
    }
   ],
   "source": [
    "getLatestPollOfStateAndCandidateAtTime(df, \"Arizona\", \"Trump\", \"Trump\", date_before=None, verbose=True)"
   ]
  },
  {
   "cell_type": "code",
   "execution_count": 27,
   "metadata": {},
   "outputs": [
    {
     "data": {
      "text/plain": [
       "{'state': 'Arizona',\n",
       " 'candidate': 'Trump',\n",
       " 'percentage': np.float64(49.0),\n",
       " 'poll_date': '07/30/2024'}"
      ]
     },
     "execution_count": 27,
     "metadata": {},
     "output_type": "execute_result"
    }
   ],
   "source": [
    "getLatestPollOfStateAndCandidateAtTime(df, \"Arizona\", \"Trump\", \"Trump\", date_before=\"07/31/2024\", verbose=True)"
   ]
  },
  {
   "cell_type": "code",
   "execution_count": 28,
   "metadata": {},
   "outputs": [
    {
     "name": "stdout",
     "output_type": "stream",
     "text": [
      "First few dates:\n",
      "['06/01/2024', '06/02/2024', '06/03/2024', '06/04/2024', '06/05/2024']\n",
      "\n",
      "Last few dates:\n",
      "['10/14/2024', '10/15/2024', '10/16/2024', '10/17/2024', '10/18/2024']\n",
      "\n",
      "Total number of dates: 140\n"
     ]
    }
   ],
   "source": [
    "from datetime import datetime, timedelta\n",
    "\n",
    "def generate_date_list(start_date, end_date):\n",
    "    date_list = []\n",
    "    current_date = start_date\n",
    "    while current_date <= end_date:\n",
    "        date_list.append(current_date.strftime('%m/%d/%Y'))\n",
    "        current_date += timedelta(days=1)\n",
    "    return date_list\n",
    "\n",
    "# Set the start date to June 1, 2024\n",
    "start_date = datetime(2024, 6, 1)\n",
    "\n",
    "# Set the end date to today\n",
    "end_date = datetime.now()\n",
    "\n",
    "# Generate the list of dates\n",
    "dates = generate_date_list(start_date, end_date)\n",
    "\n",
    "# Print the first few and last few dates to verify\n",
    "print(\"First few dates:\")\n",
    "print(dates[:5])\n",
    "print(\"\\nLast few dates:\")\n",
    "print(dates[-5:])\n",
    "print(f\"\\nTotal number of dates: {len(dates)}\")"
   ]
  },
  {
   "cell_type": "code",
   "execution_count": 35,
   "metadata": {},
   "outputs": [
    {
     "data": {
      "text/plain": [
       "61.02557678743099"
      ]
     },
     "execution_count": 35,
     "metadata": {},
     "output_type": "execute_result"
    }
   ],
   "source": [
    "def election_probability(pa, pb, moe, uv=0):\n",
    "    # Adjust for undecided voters\n",
    "    total = pa + pb\n",
    "    adj_pa = pa / total * (100 - uv)\n",
    "    adj_pb = pb / total * (100 - uv)\n",
    "    \n",
    "    # Calculate spread\n",
    "    spread = adj_pa - adj_pb\n",
    "    \n",
    "    # Calculate standard error\n",
    "    se = moe / 1.96\n",
    "    \n",
    "    # Calculate z-score\n",
    "    z = spread / (se * math.sqrt(2))\n",
    "    \n",
    "    # Use error function to calculate probability\n",
    "    probability = 0.5 * (1 + math.erf(z / math.sqrt(2)))\n",
    "    \n",
    "    return probability * 100 \n",
    "election_probability(50,49,5,0)"
   ]
  },
  {
   "cell_type": "code",
   "execution_count": 36,
   "metadata": {},
   "outputs": [
    {
     "data": {
      "text/plain": [
       "0       2024-10-16\n",
       "1       2024-10-16\n",
       "2       2024-10-16\n",
       "3       2024-10-16\n",
       "4       2024-10-16\n",
       "           ...    \n",
       "15752   2021-04-16\n",
       "15753   2021-04-16\n",
       "15754   2021-04-16\n",
       "15755   2021-04-07\n",
       "15756   2021-04-07\n",
       "Name: end_date, Length: 15757, dtype: datetime64[ns]"
      ]
     },
     "execution_count": 36,
     "metadata": {},
     "output_type": "execute_result"
    }
   ],
   "source": [
    "df['end_date']"
   ]
  },
  {
   "cell_type": "code",
   "execution_count": 38,
   "metadata": {},
   "outputs": [
    {
     "data": {
      "text/plain": [
       "100   2024-10-14\n",
       "101   2024-10-14\n",
       "102   2024-10-14\n",
       "103   2024-10-14\n",
       "104   2024-10-14\n",
       "105   2024-10-14\n",
       "106   2024-10-14\n",
       "107   2024-10-14\n",
       "108   2024-10-14\n",
       "109   2024-10-14\n",
       "110   2024-10-14\n",
       "111   2024-10-14\n",
       "112   2024-10-14\n",
       "113   2024-10-14\n",
       "114   2024-10-14\n",
       "Name: end_date, dtype: datetime64[ns]"
      ]
     },
     "execution_count": 38,
     "metadata": {},
     "output_type": "execute_result"
    }
   ],
   "source": [
    "df['end_date'][100:115]"
   ]
  },
  {
   "cell_type": "code",
   "execution_count": 39,
   "metadata": {},
   "outputs": [],
   "source": [
    "df = pd.read_csv(filename)"
   ]
  },
  {
   "cell_type": "code",
   "execution_count": 40,
   "metadata": {},
   "outputs": [
    {
     "data": {
      "text/plain": [
       "100    10/14/24\n",
       "101    10/14/24\n",
       "102    10/14/24\n",
       "103    10/14/24\n",
       "104    10/14/24\n",
       "105    10/14/24\n",
       "106    10/14/24\n",
       "107    10/14/24\n",
       "108    10/14/24\n",
       "109    10/14/24\n",
       "110    10/14/24\n",
       "111    10/14/24\n",
       "112    10/14/24\n",
       "113    10/14/24\n",
       "114    10/14/24\n",
       "Name: end_date, dtype: object"
      ]
     },
     "execution_count": 40,
     "metadata": {},
     "output_type": "execute_result"
    }
   ],
   "source": [
    "df['end_date'][100:115]"
   ]
  },
  {
   "cell_type": "code",
   "execution_count": null,
   "metadata": {},
   "outputs": [],
   "source": []
  }
 ],
 "metadata": {
  "kernelspec": {
   "display_name": ".venv",
   "language": "python",
   "name": "python3"
  },
  "language_info": {
   "codemirror_mode": {
    "name": "ipython",
    "version": 3
   },
   "file_extension": ".py",
   "mimetype": "text/x-python",
   "name": "python",
   "nbconvert_exporter": "python",
   "pygments_lexer": "ipython3",
   "version": "3.11.2"
  }
 },
 "nbformat": 4,
 "nbformat_minor": 2
}
